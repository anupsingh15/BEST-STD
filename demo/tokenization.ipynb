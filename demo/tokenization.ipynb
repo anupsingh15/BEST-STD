{
 "cells": [
  {
   "cell_type": "code",
   "execution_count": null,
   "metadata": {},
   "outputs": [],
   "source": [
    "import sys\n",
    "sys.path.append(\"../src/\")\n",
    "import pickle\n",
    "import numpy as np\n",
    "import torch\n",
    "from IPython.display import Audio, display\n",
    "\n",
    "from train import AudioTokenizer\n",
    "from utils import LibriSpeechDataset"
   ]
  },
  {
   "cell_type": "code",
   "execution_count": 2,
   "metadata": {},
   "outputs": [],
   "source": [
    "def remove_padding(z_ctx, z_ctx_quant, indices, utts_masks):\n",
    "    \"\"\"\n",
    "    Trims frames corresponding to contextual padding\n",
    "    \"\"\"\n",
    "    z_ctx1, z_ctx2 = z_ctx[0][~utts_masks[0].bool(),:], z_ctx[1][~utts_masks[1].bool(),:],\n",
    "    z_ctx_quant1, z_ctx_quant2 = z_ctx_quant[0][~utts_masks[0].bool(),:], z_ctx_quant[1][~utts_masks[1].bool(),:]\n",
    "    indices1, indices2 = indices[0][~utts_masks[0].bool()], indices[1][~utts_masks[1].bool()]\n",
    "    return [z_ctx1, z_ctx2], [z_ctx_quant1, z_ctx_quant2], [indices1, indices2]"
   ]
  },
  {
   "cell_type": "code",
   "execution_count": null,
   "metadata": {},
   "outputs": [],
   "source": [
    "model_dir = \"/home/anup/STD/checkpoints/BiMamba/LS-clean-360/codes1024_1s_LS360\"\n",
    "audio_path= \"/DATA/datasets/anup_datasets/datasets/LibriSpeech\" \n",
    "word_alignments_path= \"/DATA/datasets/anup_datasets/datasets/LibriSpeech/LibriSpeech_alignment_word/words_alignment_train-clean-360.pkl\"\n",
    "cfg = pickle.load(open(model_dir+\"/params.pkl\", \"rb\"))\n",
    "\n",
    "dataset = LibriSpeechDataset(alignments_path=word_alignments_path,\n",
    "                                audio_dir=audio_path,\n",
    "                                feats_type=cfg['feats_type'],\n",
    "                                n_mels=cfg['n_mels'],\n",
    "                                fs=cfg['fs'],\n",
    "                                rf_size=cfg['win_size'],\n",
    "                                stride=cfg['win_hop'], \n",
    "                                inp_len=cfg['seglen'],\n",
    "                                add_augment=False,\n",
    "                                noise_dir_path=None,\n",
    "                                snr_range=None)\n",
    "\n",
    "model = AudioTokenizer.load_from_pretrained(checkpoint=model_dir+\"/bsz:128_lr:0.0005_seg:1.0/checkpoints/epoch=539-valid_loss=0.00-train_loss=0.00.ckpt\",\n",
    "                                            gpu_index=0)"
   ]
  },
  {
   "cell_type": "code",
   "execution_count": null,
   "metadata": {},
   "outputs": [],
   "source": [
    "# retrieve pair of utterances of a term \n",
    "sample_idx = np.random.choice(len(dataset))\n",
    "sample_dict = dataset.__getitem__(sample_idx)\n",
    "fixed_len_utts_spec = sample_dict['utterances']\n",
    "utts_masks = sample_dict['utterance_idx']\n",
    "utts_len = np.array(sample_dict['utterance_len'])/cfg['fs']\n",
    "utt_word = sample_dict['word']\n",
    "\n",
    "print(f\"spoken term: {utt_word}\")\n",
    "# pair of utterances (with added contextual padding) of the spoken term. \n",
    "utt1 = Audio(sample_dict[\"utterances_raw\"][0], rate=cfg[\"fs\"])\n",
    "utt2 = Audio(sample_dict[\"utterances_raw\"][1], rate=cfg[\"fs\"])\n",
    "display(utt1)\n",
    "display(utt2)"
   ]
  },
  {
   "cell_type": "code",
   "execution_count": 5,
   "metadata": {},
   "outputs": [],
   "source": [
    "# get tokenized representation\n",
    "batch = torch.cat((fixed_len_utts_spec[0].unsqueeze(0), fixed_len_utts_spec[1].unsqueeze(0)), dim=0)\n",
    "z_ctx, z_ctx_quant, indices = model.predict_step(batch.cuda(), 1)\n",
    "_, _, indices  = remove_padding(z_ctx, z_ctx_quant, indices, list(utts_masks)) "
   ]
  },
  {
   "cell_type": "code",
   "execution_count": null,
   "metadata": {},
   "outputs": [],
   "source": [
    "print(f\"utterance 1 tokens: {indices[0]}\")\n",
    "print(f\"utterance 2 tokens: {indices[1]}\")"
   ]
  },
  {
   "cell_type": "code",
   "execution_count": null,
   "metadata": {},
   "outputs": [],
   "source": []
  }
 ],
 "metadata": {
  "kernelspec": {
   "display_name": "best_std",
   "language": "python",
   "name": "python3"
  },
  "language_info": {
   "codemirror_mode": {
    "name": "ipython",
    "version": 3
   },
   "file_extension": ".py",
   "mimetype": "text/x-python",
   "name": "python",
   "nbconvert_exporter": "python",
   "pygments_lexer": "ipython3",
   "version": "3.12.9"
  }
 },
 "nbformat": 4,
 "nbformat_minor": 2
}
